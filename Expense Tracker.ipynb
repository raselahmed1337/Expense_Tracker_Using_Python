{
 "cells": [
  {
   "cell_type": "code",
   "execution_count": 15,
   "id": "11c5c73f-c4e1-47ff-bf08-e64334a56b2f",
   "metadata": {},
   "outputs": [],
   "source": [
    "import csv\n",
    "import datetime\n",
    "\n",
    "expenses = []\n",
    "categories = []"
   ]
  },
  {
   "cell_type": "code",
   "execution_count": 16,
   "id": "191b7bb5-eba9-4bb5-9fec-2b92168da79b",
   "metadata": {},
   "outputs": [],
   "source": [
    "def add_expense():\n",
    "    date_str = input(\"Enter the expense date (YYYY-MM-DD): \")\n",
    "    try:\n",
    "        date = datetime.datetime.strptime(date_str, \"%Y-%m-%d\")\n",
    "    except ValueError:\n",
    "        print(\"Invalid date format. Please enter the date in the correct format (YYYY-MM-DD).\")\n",
    "        return\n",
    "\n",
    "    category = input(\"Enter the expense category: \").lower()\n",
    "\n",
    "    if category not in categories:\n",
    "        add_category(category)\n",
    "\n",
    "    description = input(\"Enter the expense description: \")\n",
    "    amount = float(input(\"Enter the expense amount: \"))\n",
    "    if amount <= 0:\n",
    "        print(\"Invalid amount. Please enter a positive value.\")\n",
    "        return\n",
    "\n",
    "    expense = {\n",
    "        \"date\": date,\n",
    "        \"category\": category,\n",
    "        \"description\": description,\n",
    "        \"amount\": amount,\n",
    "    }\n",
    "    expenses.append(expense)\n",
    "    print(\"Expense added successfully!\")"
   ]
  },
  {
   "cell_type": "code",
   "execution_count": 17,
   "id": "b2459c91-626a-4d1c-9e80-7e2e842b22ba",
   "metadata": {},
   "outputs": [],
   "source": [
    "def add_category(category):\n",
    "    if category not in categories:\n",
    "        categories.append(category)\n",
    "        print(f\"Category '{category}' added successfully!\")\n",
    "    else:\n",
    "        print(f\"Category '{category}' already exists!\")"
   ]
  },
  {
   "cell_type": "code",
   "execution_count": 18,
   "id": "03905f05-9d02-4c05-8267-adb635cacdd2",
   "metadata": {},
   "outputs": [],
   "source": [
    "def print_expenses(expenses):\n",
    "    print(\"ID  Date        Category       Description       Amount\")\n",
    "    print(\"---------------------------------------------------------\")\n",
    "    for i, expense in enumerate(expenses, start=1):\n",
    "        date_str = expense[\"date\"].strftime(\"%Y-%m-%d\")\n",
    "        category = expense[\"category\"]\n",
    "        description = expense[\"description\"]\n",
    "        amount = expense[\"amount\"]\n",
    "        print(f\"{i:<4}{date_str:<12}{category:<15}{description:<18}{amount:.2f}\")"
   ]
  },
  {
   "cell_type": "code",
   "execution_count": 19,
   "id": "889d7cbe-cd4f-4938-a73f-905fbbe6c0ed",
   "metadata": {},
   "outputs": [],
   "source": [
    "def view_expenses():\n",
    "    if not expenses:\n",
    "        print(\"No expenses found.\")\n",
    "    else:\n",
    "        print(\"Expense List:\")\n",
    "        print(\"-------------\")\n",
    "        print_expenses(expenses)"
   ]
  },
  {
   "cell_type": "code",
   "execution_count": 20,
   "id": "c400a6b7-7bdb-4b94-a30b-175c996bdf26",
   "metadata": {},
   "outputs": [],
   "source": [
    "def filter_expenses():\n",
    "    if not expenses:\n",
    "        print(\"No expenses found.\")\n",
    "        return\n",
    "\n",
    "    print(\"Filter Expenses:\")\n",
    "    print(\"1. Filter by Date Range\")\n",
    "    print(\"2. Filter by Category\")\n",
    "    print(\"3. Filter by Date Range and Category\")\n",
    "    choice = input(\"Enter your choice (1-3): \")\n",
    "\n",
    "    if choice == \"1\":\n",
    "        filter_by_date_range()\n",
    "    elif choice == \"2\":\n",
    "        filter_by_category()\n",
    "    elif choice == \"3\":\n",
    "        filter_by_date_range_and_category()\n",
    "    else:\n",
    "        print(\"Invalid choice. Please try again.\")\n",
    "\n",
    "\n",
    "def filter_by_date_range():\n",
    "    start_date_str = input(\"Enter the start date (YYYY-MM-DD): \")\n",
    "    end_date_str = input(\"Enter the end date (YYYY-MM-DD): \")\n",
    "    try:\n",
    "        start_date = datetime.datetime.strptime(start_date_str, \"%Y-%m-%d\")\n",
    "        end_date = datetime.datetime.strptime(end_date_str, \"%Y-%m-%d\")\n",
    "    except ValueError:\n",
    "        print(\"Invalid date format. Please enter the dates in the correct format (YYYY-MM-DD).\")\n",
    "        return\n",
    "\n",
    "    filtered_expenses = [\n",
    "        expense for expense in expenses\n",
    "        if start_date <= expense[\"date\"] <= end_date\n",
    "    ]\n",
    "\n",
    "    if not filtered_expenses:\n",
    "        print(\"No expenses found within the specified date range.\")\n",
    "    else:\n",
    "        print(\"Filtered Expense List:\")\n",
    "        print(\"------------------\")\n",
    "        print_expenses(filtered_expenses)\n",
    "\n",
    "\n",
    "def filter_by_category():\n",
    "    category = input(\"Enter the category: \")\n",
    "    if category not in categories:\n",
    "        print(\"Category not found.\")\n",
    "        return\n",
    "\n",
    "    filtered_expenses = [\n",
    "        expense for expense in expenses\n",
    "        if expense[\"category\"] == category\n",
    "    ]\n",
    "\n",
    "    if not filtered_expenses:\n",
    "        print(\"No expenses found for the specified category.\")\n",
    "    else:\n",
    "        print(\"Filtered Expense List:\")\n",
    "        print(\"------------------\")\n",
    "        print_expenses(filtered_expenses)\n",
    "\n",
    "\n",
    "def filter_by_date_range_and_category():\n",
    "    start_date_str = input(\"Enter the start date (YYYY-MM-DD): \")\n",
    "    end_date_str = input(\"Enter the end date (YYYY-MM-DD): \")\n",
    "    try:\n",
    "        start_date = datetime.datetime.strptime(start_date_str, \"%Y-%m-%d\")\n",
    "        end_date = datetime.datetime.strptime(end_date_str, \"%Y-%m-%d\")\n",
    "    except ValueError:\n",
    "        print(\"Invalid date format. Please enter the dates in the correct format (YYYY-MM-DD).\")\n",
    "        return\n",
    "\n",
    "    category = input(\"Enter the category: \")\n",
    "    if category not in categories:\n",
    "        print(\"Category not found.\")\n",
    "        return\n",
    "\n",
    "    filtered_expenses = [\n",
    "        expense for expense in expenses\n",
    "        if start_date <= expense[\"date\"] <= end_date and expense[\"category\"] == category\n",
    "    ]\n",
    "\n",
    "    if not filtered_expenses:\n",
    "        print(\"No expenses found for the specified date range and category.\")\n",
    "    else:\n",
    "        print(\"Filtered Expense List:\")\n",
    "        print(\"------------------\")\n",
    "        print_expenses(filtered_expenses)\n"
   ]
  },
  {
   "cell_type": "code",
   "execution_count": 21,
   "id": "8c6296ad-611d-4e11-972d-f03809bf8f5e",
   "metadata": {},
   "outputs": [],
   "source": [
    "def calculate_total_expenses():\n",
    "    if not expenses:\n",
    "        print(\"No expenses found.\")\n",
    "        return\n",
    "\n",
    "    print(\"Calculate Total Expenses:\")\n",
    "    print(\"1. Calculate total for all expenses\")\n",
    "    print(\"2. Calculate total within a date range\")\n",
    "    choice = input(\"Enter your choice (1-2): \")\n",
    "\n",
    "    if choice == \"1\":\n",
    "        total_expenses = sum(expense[\"amount\"] for expense in expenses)\n",
    "        print(f\"Total Expenses: {total_expenses}\")\n",
    "    elif choice == \"2\":\n",
    "        start_date_str = input(\"Enter the start date (YYYY-MM-DD): \")\n",
    "        end_date_str = input(\"Enter the end date (YYYY-MM-DD): \")\n",
    "        try:\n",
    "            start_date = datetime.datetime.strptime(start_date_str, \"%Y-%m-%d\")\n",
    "            end_date = datetime.datetime.strptime(end_date_str, \"%Y-%m-%d\")\n",
    "        except ValueError:\n",
    "            print(\"Invalid date format. Please enter the dates in the correct format (YYYY-MM-DD).\")\n",
    "            return\n",
    "\n",
    "        total_expenses = sum(\n",
    "            expense[\"amount\"]\n",
    "            for expense in expenses\n",
    "            if start_date <= expense[\"date\"] <= end_date\n",
    "        )\n",
    "        print(f\"Total Expenses within {start_date_str} and {end_date_str}: {total_expenses}\")\n",
    "    else:\n",
    "        print(\"Invalid choice. Please try again.\")"
   ]
  },
  {
   "cell_type": "code",
   "execution_count": 22,
   "id": "75d700ad-2cd7-4540-b07a-bc411c909dd5",
   "metadata": {},
   "outputs": [],
   "source": [
    "def delete_expense():\n",
    "    if not expenses:\n",
    "        print(\"No expenses found.\")\n",
    "        return\n",
    "\n",
    "    view_expenses()\n",
    "    expense_id = int(input(\"Enter the expense ID to delete: \"))\n",
    "    if expense_id < 1 or expense_id > len(expenses):\n",
    "        print(\"Invalid expense ID. Please try again.\")\n",
    "        return\n",
    "\n",
    "    del expenses[expense_id - 1]\n",
    "    print(\"Expense deleted successfully!\")\n",
    "    print_expenses(expenses)"
   ]
  },
  {
   "cell_type": "code",
   "execution_count": 23,
   "id": "41ad9567-bf8e-4092-b64b-836b49c9faa5",
   "metadata": {},
   "outputs": [],
   "source": [
    "def export_expense_data():\n",
    "    if not expenses:\n",
    "        print(\"No expenses found.\")\n",
    "        return\n",
    "\n",
    "    file_name = input(\"Enter the file name to export (e.g., expenses.csv): \")\n",
    "    if not file_name.endswith(\".csv\"):\n",
    "        print(\"Invalid file name. The file must be in CSV format.\")\n",
    "        return\n",
    "\n",
    "    try:\n",
    "        with open(file_name, \"w\", newline=\"\") as csvfile:\n",
    "            fieldnames = [\"Date\", \"Category\", \"Description\", \"Amount\"]\n",
    "            writer = csv.DictWriter(csvfile, fieldnames=fieldnames)\n",
    "\n",
    "            writer.writeheader()\n",
    "            for expense in expenses:\n",
    "                writer.writerow({\n",
    "                    \"Date\": expense[\"date\"].strftime(\"%Y-%m-%d\"),\n",
    "                    \"Category\": expense[\"category\"],\n",
    "                    \"Description\": expense[\"description\"],\n",
    "                    \"Amount\": expense[\"amount\"],\n",
    "                })\n",
    "\n",
    "        print(f\"Expense data exported to {file_name} successfully!\")\n",
    "    except IOError:\n",
    "        print(\"An error occurred while exporting the expense data.\")"
   ]
  },
  {
   "cell_type": "code",
   "execution_count": 24,
   "id": "621aa548-7c16-4cef-9929-793e4b191fd2",
   "metadata": {},
   "outputs": [],
   "source": [
    "def main():\n",
    "    while True:\n",
    "        print(\"\\nExpense Tracker\")\n",
    "        print(\"---------------\")\n",
    "        print(\"1. Add an Expense\")\n",
    "        print(\"2. View Expense List\")\n",
    "        print(\"3. Filter Expenses\")\n",
    "        print(\"4. Calculate Total Expenses\")\n",
    "        print(\"5. Delete an Expense\")\n",
    "        print(\"6. Export Expense Data\")\n",
    "        print(\"7. Add categories\")\n",
    "        print(\"8. Exit\")\n",
    "        choice = input(\"Enter your choice (1-8): \")\n",
    "\n",
    "        if choice == \"1\":\n",
    "            print(\"Enter expense details:\")\n",
    "            add_expense()\n",
    "        elif choice == \"2\":\n",
    "            view_expenses()\n",
    "        elif choice == \"3\":\n",
    "            filter_expenses()\n",
    "        elif choice == \"4\":\n",
    "            calculate_total_expenses()\n",
    "        elif choice == \"5\":\n",
    "            delete_expense()\n",
    "        elif choice == \"6\":\n",
    "            export_expense_data()\n",
    "        elif choice == \"7\":\n",
    "            category = input(\"Enter the new category: \").lower()\n",
    "            add_category(category)\n",
    "        elif choice == \"8\":\n",
    "            print(\"Exiting...\")\n",
    "            break\n",
    "        else:\n",
    "            print(\"Invalid choice. Please try again.\")\n",
    "\n"
   ]
  },
  {
   "cell_type": "code",
   "execution_count": null,
   "id": "3a6292ad-2448-4c9b-b4b2-d589d64056f4",
   "metadata": {},
   "outputs": [
    {
     "name": "stdout",
     "output_type": "stream",
     "text": [
      "\n",
      "Expense Tracker\n",
      "---------------\n",
      "1. Add an Expense\n",
      "2. View Expense List\n",
      "3. Filter Expenses\n",
      "4. Calculate Total Expenses\n",
      "5. Delete an Expense\n",
      "6. Export Expense Data\n",
      "7. Add categories\n",
      "8. Exit\n"
     ]
    },
    {
     "name": "stdin",
     "output_type": "stream",
     "text": [
      "Enter your choice (1-8):  2\n"
     ]
    },
    {
     "name": "stdout",
     "output_type": "stream",
     "text": [
      "No expenses found.\n",
      "\n",
      "Expense Tracker\n",
      "---------------\n",
      "1. Add an Expense\n",
      "2. View Expense List\n",
      "3. Filter Expenses\n",
      "4. Calculate Total Expenses\n",
      "5. Delete an Expense\n",
      "6. Export Expense Data\n",
      "7. Add categories\n",
      "8. Exit\n"
     ]
    },
    {
     "name": "stdin",
     "output_type": "stream",
     "text": [
      "Enter your choice (1-8):  1\n"
     ]
    },
    {
     "name": "stdout",
     "output_type": "stream",
     "text": [
      "Enter expense details:\n"
     ]
    },
    {
     "name": "stdin",
     "output_type": "stream",
     "text": [
      "Enter the expense date (YYYY-MM-DD):  2012-12-12\n",
      "Enter the expense category:  food\n"
     ]
    },
    {
     "name": "stdout",
     "output_type": "stream",
     "text": [
      "Category 'food' added successfully!\n"
     ]
    },
    {
     "name": "stdin",
     "output_type": "stream",
     "text": [
      "Enter the expense description:  wfffv\n",
      "Enter the expense amount:  23\n"
     ]
    },
    {
     "name": "stdout",
     "output_type": "stream",
     "text": [
      "Expense added successfully!\n",
      "\n",
      "Expense Tracker\n",
      "---------------\n",
      "1. Add an Expense\n",
      "2. View Expense List\n",
      "3. Filter Expenses\n",
      "4. Calculate Total Expenses\n",
      "5. Delete an Expense\n",
      "6. Export Expense Data\n",
      "7. Add categories\n",
      "8. Exit\n"
     ]
    },
    {
     "name": "stdin",
     "output_type": "stream",
     "text": [
      "Enter your choice (1-8):  1\n"
     ]
    },
    {
     "name": "stdout",
     "output_type": "stream",
     "text": [
      "Enter expense details:\n"
     ]
    },
    {
     "name": "stdin",
     "output_type": "stream",
     "text": [
      "Enter the expense date (YYYY-MM-DD):  2012-12-12\n",
      "Enter the expense category:  drink\n"
     ]
    },
    {
     "name": "stdout",
     "output_type": "stream",
     "text": [
      "Category 'drink' added successfully!\n"
     ]
    },
    {
     "name": "stdin",
     "output_type": "stream",
     "text": [
      "Enter the expense description:  sdfb\n",
      "Enter the expense amount:  23\n"
     ]
    },
    {
     "name": "stdout",
     "output_type": "stream",
     "text": [
      "Expense added successfully!\n",
      "\n",
      "Expense Tracker\n",
      "---------------\n",
      "1. Add an Expense\n",
      "2. View Expense List\n",
      "3. Filter Expenses\n",
      "4. Calculate Total Expenses\n",
      "5. Delete an Expense\n",
      "6. Export Expense Data\n",
      "7. Add categories\n",
      "8. Exit\n"
     ]
    },
    {
     "name": "stdin",
     "output_type": "stream",
     "text": [
      "Enter your choice (1-8):  2\n"
     ]
    },
    {
     "name": "stdout",
     "output_type": "stream",
     "text": [
      "Expense List:\n",
      "-------------\n",
      "ID  Date        Category       Description       Amount\n",
      "---------------------------------------------------------\n",
      "1   2012-12-12  food           wfffv             23.00\n",
      "2   2012-12-12  drink          sdfb              23.00\n",
      "\n",
      "Expense Tracker\n",
      "---------------\n",
      "1. Add an Expense\n",
      "2. View Expense List\n",
      "3. Filter Expenses\n",
      "4. Calculate Total Expenses\n",
      "5. Delete an Expense\n",
      "6. Export Expense Data\n",
      "7. Add categories\n",
      "8. Exit\n"
     ]
    },
    {
     "name": "stdin",
     "output_type": "stream",
     "text": [
      "Enter your choice (1-8):  5\n"
     ]
    },
    {
     "name": "stdout",
     "output_type": "stream",
     "text": [
      "Expense List:\n",
      "-------------\n",
      "ID  Date        Category       Description       Amount\n",
      "---------------------------------------------------------\n",
      "1   2012-12-12  food           wfffv             23.00\n",
      "2   2012-12-12  drink          sdfb              23.00\n"
     ]
    },
    {
     "name": "stdin",
     "output_type": "stream",
     "text": [
      "Enter the expense ID to delete:  1\n"
     ]
    },
    {
     "name": "stdout",
     "output_type": "stream",
     "text": [
      "Expense deleted successfully!\n",
      "ID  Date        Category       Description       Amount\n",
      "---------------------------------------------------------\n",
      "1   2012-12-12  drink          sdfb              23.00\n",
      "\n",
      "Expense Tracker\n",
      "---------------\n",
      "1. Add an Expense\n",
      "2. View Expense List\n",
      "3. Filter Expenses\n",
      "4. Calculate Total Expenses\n",
      "5. Delete an Expense\n",
      "6. Export Expense Data\n",
      "7. Add categories\n",
      "8. Exit\n"
     ]
    }
   ],
   "source": [
    "main()"
   ]
  },
  {
   "cell_type": "code",
   "execution_count": null,
   "id": "dd78eea0-cfc5-40ec-b4ce-e54003ff9c7f",
   "metadata": {},
   "outputs": [],
   "source": []
  }
 ],
 "metadata": {
  "kernelspec": {
   "display_name": "Python 3 (ipykernel)",
   "language": "python",
   "name": "python3"
  },
  "language_info": {
   "codemirror_mode": {
    "name": "ipython",
    "version": 3
   },
   "file_extension": ".py",
   "mimetype": "text/x-python",
   "name": "python",
   "nbconvert_exporter": "python",
   "pygments_lexer": "ipython3",
   "version": "3.11.3"
  }
 },
 "nbformat": 4,
 "nbformat_minor": 5
}
